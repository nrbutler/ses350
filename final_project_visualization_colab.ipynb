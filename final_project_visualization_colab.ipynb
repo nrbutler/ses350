{
 "cells": [
  {
   "cell_type": "markdown",
   "metadata": {
    "deletable": false,
    "editable": false,
    "tags": []
   },
   "source": [
    "# Final Project Visualization (50 points)\n",
    "\n",
    "Do a shift-enter in all code blocks to execute.  You will need to enter commands in some blocks before executing.  Each place where this is necessary, you will see the points awarded for correct completion.  Do NOT change other code blocks.  (You will see \"edit this block\" in blocks which do need editing.)  This exercise will also help you to understand the Module 14: Lab, which does not permit visualization."
   ]
  },
  {
   "cell_type": "code",
   "execution_count": null,
   "metadata": {
    "deletable": false,
    "editable": false,
    "tags": []
   },
   "outputs": [],
   "source": [
    "import numpy as np\n",
    "import matplotlib.pyplot as plt\n",
    "from scipy.fftpack import fft\n",
    "print (\"hello\")"
   ]
  },
  {
   "cell_type": "markdown",
   "metadata": {
    "deletable": false,
    "editable": false,
    "tags": []
   },
   "source": [
    "You will need to to edit the files find_stars.py and measure_stars.py which are in a folder called ses350.  Alternatively, you can comment the import statements out and paste your code to define the functions find_stars and measure_stars directly into the next block.\n",
    "\n",
    "After you make any changes to this notebook, I recommend running a \"Run all\" from the Runtime menu.  Alternatively, you can use the Ctrl+F9 shortcut to accomplish this.  This operation will reload all of your code and automatically execute all code blocks, saving you some time."
   ]
  },
  {
   "cell_type": "code",
   "execution_count": null,
   "metadata": {},
   "outputs": [],
   "source": [
    "!git clone https://github.com/nrbutler/ses350  # only need to do this once\n",
    "import sys\n",
    "sys.path.append(\"ses350\")"
   ]
  },
  {
   "cell_type": "code",
   "execution_count": null,
   "metadata": {
    "tags": []
   },
   "outputs": [],
   "source": [
    "# you can change this block if need be\n",
    "from find_stars import find_stars\n",
    "from measure_stars import measure_stars"
   ]
  },
  {
   "cell_type": "markdown",
   "metadata": {
    "deletable": false,
    "editable": false,
    "tags": []
   },
   "source": [
    "Now, let's simulate some images and get to work.  The simulator inserts one special star, a star which is quite variable and is also periodic.  Do not change this code."
   ]
  },
  {
   "cell_type": "code",
   "execution_count": null,
   "metadata": {
    "deletable": false,
    "editable": false,
    "tags": []
   },
   "outputs": [],
   "source": [
    "# get the data simulator\n",
    "from simulate_image_stack import imsim_multi\n",
    "\n",
    "data = imsim_multi()\n",
    "print (len(data))\n",
    "print (data[0].shape)\n",
    "\n",
    "# stacked image for source detection\n",
    "im0 = np.mean(data,axis=0)\n",
    "plt.imshow(im0.clip(-30,30),cmap='gray')"
   ]
  },
  {
   "cell_type": "markdown",
   "metadata": {
    "deletable": false,
    "editable": false,
    "tags": []
   },
   "source": [
    "At this point, you should not be able to spot the interesting star.  But it's in there! Let's find the stars in that image and measure the fluxes in all images."
   ]
  },
  {
   "cell_type": "code",
   "execution_count": null,
   "metadata": {
    "deletable": false,
    "editable": false,
    "tags": []
   },
   "outputs": [],
   "source": [
    "# run your find_stars, add any other arguments if needed\n",
    "sx,sy = find_stars(im0)\n",
    "\n",
    "# 2d numpy array of the fluxes in each image and run measure_stars\n",
    "N,M = len(data),len(sx)\n",
    "flux = np.zeros((N,M),dtype='float32')\n",
    "\n",
    "# run your measure_stars, add any other arguments if needed\n",
    "for i in range(N):\n",
    "    flux[i] = measure_stars(data[i],sx,sy)"
   ]
  },
  {
   "cell_type": "markdown",
   "metadata": {
    "deletable": false,
    "editable": false,
    "tags": []
   },
   "source": [
    "Plot the time history (\"lightcurve\") for the first star detected.  It should look a little noisy.  You could make a plot like this for each star by replacing 0 with another integer."
   ]
  },
  {
   "cell_type": "code",
   "execution_count": null,
   "metadata": {
    "deletable": false,
    "editable": false,
    "tags": []
   },
   "outputs": [],
   "source": [
    "plt.plot(flux[0])\n",
    "plt.semilogy()\n",
    "plt.xlabel(\"Time [bins]\")\n",
    "plt.ylabel(\"Flux [counts]\")"
   ]
  },
  {
   "cell_type": "markdown",
   "metadata": {
    "deletable": false,
    "editable": false,
    "tags": []
   },
   "source": [
    "In this final phase of the final project, you will sort through your set of lightcurves to look for variability and periodicity.  We will first need to calculate the mean and variance for each lightcurve."
   ]
  },
  {
   "cell_type": "code",
   "execution_count": null,
   "metadata": {
    "deletable": false,
    "editable": false,
    "tags": []
   },
   "outputs": [],
   "source": [
    "ff = flux.mean(axis=0)   # length M, mean flux for each star\n",
    "vff = flux.var(axis=0)   # length M, flux variance for each star\n",
    "plt.plot(ff,vff,'o')\n",
    "plt.loglog()\n",
    "plt.xlabel(\"Mean Flux [counts]\")\n",
    "plt.ylabel(\"Flux Variance [counts]\")"
   ]
  },
  {
   "cell_type": "markdown",
   "metadata": {
    "deletable": false,
    "editable": false,
    "tags": []
   },
   "source": [
    "Does one of those points look different from the rest?"
   ]
  },
  {
   "cell_type": "markdown",
   "metadata": {
    "deletable": false,
    "editable": false,
    "tags": []
   },
   "source": [
    "## Identifying a Variable Star"
   ]
  },
  {
   "cell_type": "markdown",
   "metadata": {
    "deletable": false,
    "editable": false,
    "tags": []
   },
   "source": [
    "First, let's calculate the power spectral density for each star, PSD.  This can be done with one call to fft, which calculates it for every star at once."
   ]
  },
  {
   "cell_type": "code",
   "execution_count": null,
   "metadata": {
    "deletable": false,
    "editable": false,
    "tags": []
   },
   "outputs": [],
   "source": [
    "psd = np.abs( fft(flux-ff,axis=0)[:int(N/2)] )**2/(N*vff)"
   ]
  },
  {
   "cell_type": "markdown",
   "metadata": {
    "deletable": false,
    "editable": false,
    "tags": []
   },
   "source": [
    "Let's plot the first one."
   ]
  },
  {
   "cell_type": "code",
   "execution_count": null,
   "metadata": {
    "deletable": false,
    "editable": false,
    "tags": []
   },
   "outputs": [],
   "source": [
    "print (psd.shape)"
   ]
  },
  {
   "cell_type": "code",
   "execution_count": null,
   "metadata": {
    "deletable": false,
    "editable": false,
    "tags": []
   },
   "outputs": [],
   "source": [
    "plt.plot (np.arange(N/2)/N,psd[:,0])\n",
    "plt.xlabel(\"Frequency [1/bins]\")\n",
    "plt.ylabel(\"PSD\")"
   ]
  },
  {
   "cell_type": "markdown",
   "metadata": {
    "deletable": false,
    "editable": false,
    "tags": []
   },
   "source": [
    "If this is the periodic sources, there should be a large, narrow spike somewhere in the middle of the plot.  We probably have to look at more sources to find the interesting one."
   ]
  },
  {
   "cell_type": "markdown",
   "metadata": {
    "deletable": false,
    "editable": false,
    "tags": []
   },
   "source": [
    "### Looking at variability alone."
   ]
  },
  {
   "cell_type": "markdown",
   "metadata": {
    "deletable": false,
    "editable": false,
    "tags": []
   },
   "source": [
    "Make a histogram plot first of the variance over the mean.  Here, we're careful to clip low mean values.  Use the definition of y below and make a histogram plot."
   ]
  },
  {
   "cell_type": "code",
   "execution_count": null,
   "metadata": {
    "deletable": false,
    "editable": false,
    "tags": []
   },
   "outputs": [],
   "source": [
    "y = vff/ff.clip(vff.min())"
   ]
  },
  {
   "cell_type": "markdown",
   "metadata": {
    "deletable": false,
    "editable": false,
    "tags": []
   },
   "source": [
    "You will now start to add your own code, changing some of the blocks below.\n",
    "In the next block, make a histogram plot of y using plt.hist for 10 points."
   ]
  },
  {
   "cell_type": "code",
   "execution_count": null,
   "metadata": {},
   "outputs": [],
   "source": [
    "# edit this block\n",
    "# make a histogram plot of y using plt.hist (10 points)"
   ]
  },
  {
   "cell_type": "markdown",
   "metadata": {
    "deletable": false,
    "editable": false,
    "tags": []
   },
   "source": [
    "Do you see an interesting source?  Print out the 3 most variable:"
   ]
  },
  {
   "cell_type": "code",
   "execution_count": null,
   "metadata": {
    "deletable": false,
    "editable": false,
    "tags": []
   },
   "outputs": [],
   "source": [
    "s = y.argsort()[::-1]\n",
    "for i in range(3):\n",
    "    print (\"Source ID {:-2d}, vff/ff: {:5.1f}\".format(s[i],y[s[i]]))"
   ]
  },
  {
   "cell_type": "markdown",
   "metadata": {
    "deletable": false,
    "editable": false,
    "tags": []
   },
   "source": [
    "Make a histogram plot next of the highest PSD peak:  Use the definition of y1 below and make this second histogram plot.\n",
    "In the next code block after this, make a histogram plot of y1 using plt.hist for 10 points"
   ]
  },
  {
   "cell_type": "code",
   "execution_count": null,
   "metadata": {
    "deletable": false,
    "editable": false,
    "tags": []
   },
   "outputs": [],
   "source": [
    "y1 = psd.max(axis=0)"
   ]
  },
  {
   "cell_type": "code",
   "execution_count": null,
   "metadata": {},
   "outputs": [],
   "source": [
    "# edit this block\n",
    "# make a histogram plot of y1 using plt.hist (10 points)"
   ]
  },
  {
   "cell_type": "markdown",
   "metadata": {
    "deletable": false,
    "editable": false,
    "tags": []
   },
   "source": [
    "Do you see an interesting source now?  Print out the 3 most variable."
   ]
  },
  {
   "cell_type": "code",
   "execution_count": null,
   "metadata": {
    "deletable": false,
    "editable": false,
    "tags": []
   },
   "outputs": [],
   "source": [
    "s = y1.argsort()[::-1]\n",
    "for i in range(3):\n",
    "    print (\"Source ID {:-2d}, max(psd): {:5.1f}\".format(s[i],y1[s[i]]))"
   ]
  },
  {
   "cell_type": "markdown",
   "metadata": {
    "deletable": false,
    "editable": false,
    "tags": []
   },
   "source": [
    "Now make a scatter plot of y1 versus y.  Is there clearly something interesting there?\n",
    "In the next block, make a scatter plot of y1 versus y using plt.plot or plt.scatter.  Create informative x and y axis labels."
   ]
  },
  {
   "cell_type": "code",
   "execution_count": null,
   "metadata": {},
   "outputs": [],
   "source": [
    "# edit this block\n",
    "# make a scatter plot of y1 versus y using plt.plot or plt.scatter.  Create informative x and y axis labels (10 points)"
   ]
  },
  {
   "cell_type": "markdown",
   "metadata": {
    "deletable": false,
    "editable": false,
    "tags": []
   },
   "source": [
    "Now, for 20 points, copy in your algorithm from Module 14: Lab in the zybook for finding the periodic source.\n",
    "Be sure to paste in just your function definition and not import statements or code beginning or after the line \"if \_\_name\_\_ == \_\_main\_\_\"."
   ]
  },
  {
   "cell_type": "code",
   "execution_count": null,
   "metadata": {},
   "outputs": [],
   "source": [
    "# edit this block\n",
    "#\n",
    "# paste here your definition for the find_periodic_source function (from the Module 14 Lab) here and run with shift-enter (20 points)\n",
    "#\n",
    "#  if this is done correctly, the code blocks below can then be executed; you will not need to change any more code blocks below.\n",
    "#\n",
    "# Warning: do not copy in the lines including and below if __name__ == \"__main__\":, because these are not part of the function.\n",
    "#"
   ]
  },
  {
   "cell_type": "code",
   "execution_count": null,
   "metadata": {
    "deletable": false,
    "editable": false,
    "tags": []
   },
   "outputs": [],
   "source": [
    "# this will run your find_periodic_source function.  do not change this or any code below.\n",
    "j,period,ampl = find_periodic_source(data)"
   ]
  },
  {
   "cell_type": "markdown",
   "metadata": {
    "deletable": false,
    "editable": false,
    "tags": []
   },
   "source": [
    "Finally, let's generate plots of the periodic source.  This plot should show one, nice spike, which corresponds to the periodic source."
   ]
  },
  {
   "cell_type": "code",
   "execution_count": null,
   "metadata": {
    "deletable": false,
    "editable": false,
    "tags": []
   },
   "outputs": [],
   "source": [
    "plt.plot (np.arange(N/2)/N,psd[:,j])\n",
    "plt.xlabel(\"Frequency [1/bins]\")\n",
    "plt.ylabel(\"PSD\")"
   ]
  },
  {
   "cell_type": "markdown",
   "metadata": {
    "deletable": false,
    "editable": false,
    "tags": []
   },
   "source": [
    "You can now also plot the lightcurve and what's called the folded lightcurve."
   ]
  },
  {
   "cell_type": "code",
   "execution_count": null,
   "metadata": {
    "deletable": false,
    "editable": false,
    "tags": []
   },
   "outputs": [],
   "source": [
    "fig,ax=plt.subplots(2)\n",
    "ax[0].plot(flux[:,j])\n",
    "ax[1].plot((np.arange(30)/period)%1,flux[:,j],'o')"
   ]
  },
  {
   "cell_type": "markdown",
   "metadata": {
    "deletable": false,
    "editable": false,
    "tags": []
   },
   "source": [
    "You should be able to see the periodic behavior in the top plot.  The curve in the plot should look like a sine function or like a sawtooth pattern, and it should not look like noise.  The bottom plot shows the data from the top plot \"folded\" onto the period, allowing you to see what happens during one cycle.  The data points should form a fairly smooth curve, and it should not look like noise.\n",
    "\n",
    "Once your notebook runs without errors, and you are happy with how the plots look, save the notebook.  Then Download it to your computer using \"Download .ipynb\" from the File menu.  Email the notebook to your instructor to receive credit."
   ]
  },
  {
   "cell_type": "code",
   "execution_count": null,
   "metadata": {},
   "outputs": [],
   "source": []
  }
 ],
 "metadata": {
  "kernelspec": {
   "display_name": "Python 3 (ipykernel)",
   "language": "python",
   "name": "python3"
  },
  "language_info": {
   "codemirror_mode": {
    "name": "ipython",
    "version": 3
   },
   "file_extension": ".py",
   "mimetype": "text/x-python",
   "name": "python",
   "nbconvert_exporter": "python",
   "pygments_lexer": "ipython3",
   "version": "3.12.3"
  }
 },
 "nbformat": 4,
 "nbformat_minor": 4
}
